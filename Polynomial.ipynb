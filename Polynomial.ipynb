{
  "nbformat": 4,
  "nbformat_minor": 0,
  "metadata": {
    "colab": {
      "name": "Polynomial.ipynb",
      "version": "0.3.2",
      "provenance": [],
      "collapsed_sections": []
    },
    "kernelspec": {
      "name": "python3",
      "display_name": "Python 3"
    }
  },
  "cells": [
    {
      "cell_type": "code",
      "metadata": {
        "id": "M_eSXkgOrgEk",
        "colab_type": "code",
        "colab": {}
      },
      "source": [
        "import numpy as np\n",
        "import matplotlib.pyplot as plt\n",
        "from keras.layers import Dense\n",
        "from keras.optimizers import Adam\n",
        "from keras.models import Sequential\n"
      ],
      "execution_count": 0,
      "outputs": []
    },
    {
      "cell_type": "code",
      "metadata": {
        "id": "gynIgSSlsUpS",
        "colab_type": "code",
        "colab": {
          "base_uri": "https://localhost:8080/",
          "height": 286
        },
        "outputId": "b25d3bfc-e435-47f7-fb00-e809bdd974fc"
      },
      "source": [
        "np.random.seed(0)\n",
        "points = 500\n",
        "X = np.linspace(-3, 3, points)\n",
        "y = np.sin(X) + np.random.uniform(-0.5, 0.5, points)\n",
        "\n",
        "plt.scatter(X, y)"
      ],
      "execution_count": 2,
      "outputs": [
        {
          "output_type": "execute_result",
          "data": {
            "text/plain": [
              "<matplotlib.collections.PathCollection at 0x7f3e24323b00>"
            ]
          },
          "metadata": {
            "tags": []
          },
          "execution_count": 2
        },
        {
          "output_type": "display_data",
          "data": {
            "image/png": "[encoded data removed]",
            "text/plain": [
              "<Figure size 432x288 with 1 Axes>"
            ]
          },
          "metadata": {
            "tags": []
          }
        }
      ]
    },
    {
      "cell_type": "code",
      "metadata": {
        "id": "MRz1pcAlsnjS",
        "colab_type": "code",
        "colab": {}
      },
      "source": [
        "model = Sequential()\n",
        "model.add(Dense(50, activation = 'sigmoid', input_dim = 1))\n",
        "model.add(Dense(30, activation='sigmoid'))\n",
        "model.add(Dense(1))\n",
        "\n"
      ],
      "execution_count": 0,
      "outputs": []
    },
    {
      "cell_type": "code",
      "metadata": {
        "id": "b4gj_Sktt2YP",
        "colab_type": "code",
        "colab": {
          "base_uri": "https://localhost:8080/",
          "height": 1000
        },
        "outputId": "3debb3ee-f93a-4a80-d8fd-d03813a8c43c"
      },
      "source": [
        "adam = Adam(lr=0.01)\n",
        "model.compile(loss='mse', optimizer =adam)\n",
        "model.fit(X, y, epochs = 50, )\n"
      ],
      "execution_count": 14,
      "outputs": [
        {
          "output_type": "stream",
          "text": [
            "Epoch 1/50\n",
            "500/500 [==============================] - 0s 477us/step - loss: 0.1212\n",
            "Epoch 2/50\n",
            "500/500 [==============================] - 0s 50us/step - loss: 0.1018\n",
            "Epoch 3/50\n",
            "500/500 [==============================] - 0s 59us/step - loss: 0.0971\n",
            "Epoch 4/50\n",
            "500/500 [==============================] - 0s 63us/step - loss: 0.1024\n",
            "Epoch 5/50\n",
            "500/500 [==============================] - 0s 54us/step - loss: 0.1061\n",
            "Epoch 6/50\n",
            "500/500 [==============================] - 0s 56us/step - loss: 0.1046\n",
            "Epoch 7/50\n",
            "500/500 [==============================] - 0s 58us/step - loss: 0.1019\n",
            "Epoch 8/50\n",
            "500/500 [==============================] - 0s 53us/step - loss: 0.1023\n",
            "Epoch 9/50\n",
            "500/500 [==============================] - 0s 54us/step - loss: 0.0998\n",
            "Epoch 10/50\n",
            "500/500 [==============================] - 0s 57us/step - loss: 0.0950\n",
            "Epoch 11/50\n",
            "500/500 [==============================] - 0s 56us/step - loss: 0.0993\n",
            "Epoch 12/50\n",
            "500/500 [==============================] - 0s 51us/step - loss: 0.0996\n",
            "Epoch 13/50\n",
            "500/500 [==============================] - 0s 45us/step - loss: 0.1018\n",
            "Epoch 14/50\n",
            "500/500 [==============================] - 0s 46us/step - loss: 0.0981\n",
            "Epoch 15/50\n",
            "500/500 [==============================] - 0s 44us/step - loss: 0.0996\n",
            "Epoch 16/50\n",
            "500/500 [==============================] - 0s 43us/step - loss: 0.1085\n",
            "Epoch 17/50\n",
            "500/500 [==============================] - 0s 44us/step - loss: 0.1154\n",
            "Epoch 18/50\n",
            "500/500 [==============================] - 0s 46us/step - loss: 0.1122\n",
            "Epoch 19/50\n",
            "500/500 [==============================] - 0s 50us/step - loss: 0.0988\n",
            "Epoch 20/50\n",
            "500/500 [==============================] - 0s 51us/step - loss: 0.1028\n",
            "Epoch 21/50\n",
            "500/500 [==============================] - 0s 57us/step - loss: 0.0975\n",
            "Epoch 22/50\n",
            "500/500 [==============================] - 0s 59us/step - loss: 0.0944\n",
            "Epoch 23/50\n",
            "500/500 [==============================] - 0s 52us/step - loss: 0.0965\n",
            "Epoch 24/50\n",
            "500/500 [==============================] - 0s 52us/step - loss: 0.0975\n",
            "Epoch 25/50\n",
            "500/500 [==============================] - 0s 54us/step - loss: 0.1017\n",
            "Epoch 26/50\n",
            "500/500 [==============================] - 0s 54us/step - loss: 0.0967\n",
            "Epoch 27/50\n",
            "500/500 [==============================] - 0s 61us/step - loss: 0.0966\n",
            "Epoch 28/50\n",
            "500/500 [==============================] - 0s 47us/step - loss: 0.0961\n",
            "Epoch 29/50\n",
            "500/500 [==============================] - 0s 45us/step - loss: 0.0977\n",
            "Epoch 30/50\n",
            "500/500 [==============================] - 0s 52us/step - loss: 0.1008\n",
            "Epoch 31/50\n",
            "500/500 [==============================] - 0s 54us/step - loss: 0.0943\n",
            "Epoch 32/50\n",
            "500/500 [==============================] - 0s 49us/step - loss: 0.0982\n",
            "Epoch 33/50\n",
            "500/500 [==============================] - 0s 54us/step - loss: 0.0943\n",
            "Epoch 34/50\n",
            "500/500 [==============================] - 0s 48us/step - loss: 0.0918\n",
            "Epoch 35/50\n",
            "500/500 [==============================] - 0s 47us/step - loss: 0.0988\n",
            "Epoch 36/50\n",
            "500/500 [==============================] - 0s 50us/step - loss: 0.0966\n",
            "Epoch 37/50\n",
            "500/500 [==============================] - 0s 48us/step - loss: 0.0969\n",
            "Epoch 38/50\n",
            "500/500 [==============================] - 0s 43us/step - loss: 0.1034\n",
            "Epoch 39/50\n",
            "500/500 [==============================] - 0s 47us/step - loss: 0.0947\n",
            "Epoch 40/50\n",
            "500/500 [==============================] - 0s 49us/step - loss: 0.0980\n",
            "Epoch 41/50\n",
            "500/500 [==============================] - 0s 64us/step - loss: 0.0967\n",
            "Epoch 42/50\n",
            "500/500 [==============================] - 0s 59us/step - loss: 0.0949\n",
            "Epoch 43/50\n",
            "500/500 [==============================] - 0s 52us/step - loss: 0.0948\n",
            "Epoch 44/50\n",
            "500/500 [==============================] - 0s 59us/step - loss: 0.0958\n",
            "Epoch 45/50\n",
            "500/500 [==============================] - 0s 54us/step - loss: 0.1041\n",
            "Epoch 46/50\n",
            "500/500 [==============================] - 0s 54us/step - loss: 0.1027\n",
            "Epoch 47/50\n",
            "500/500 [==============================] - 0s 51us/step - loss: 0.0980\n",
            "Epoch 48/50\n",
            "500/500 [==============================] - 0s 51us/step - loss: 0.1032\n",
            "Epoch 49/50\n",
            "500/500 [==============================] - 0s 47us/step - loss: 0.0974\n",
            "Epoch 50/50\n",
            "500/500 [==============================] - 0s 47us/step - loss: 0.0951\n"
          ],
          "name": "stdout"
        },
        {
          "output_type": "execute_result",
          "data": {
            "text/plain": [
              "<keras.callbacks.History at 0x7f3e0635e240>"
            ]
          },
          "metadata": {
            "tags": []
          },
          "execution_count": 14
        }
      ]
    },
    {
      "cell_type": "code",
      "metadata": {
        "id": "9uSQIukmviOw",
        "colab_type": "code",
        "colab": {
          "base_uri": "https://localhost:8080/",
          "height": 269
        },
        "outputId": "b31fca44-7b99-4c9d-af42-0d0dba40b6a9"
      },
      "source": [
        "predictions = model.predict(X)\n",
        "plt.scatter(X, y)\n",
        "plt.plot(X, predictions, 'ro')\n",
        "plt.show()"
      ],
      "execution_count": 15,
      "outputs": [
        {
          "output_type": "display_data",
          "data": {
            "image/png": "[encoded data removed]",
            "text/plain": [
              "<Figure size 432x288 with 1 Axes>"
            ]
          },
          "metadata": {
            "tags": []
          }
        }
      ]
    },
    {
      "cell_type": "code",
      "metadata": {
        "id": "mBbs5i9wwRRh",
        "colab_type": "code",
        "colab": {}
      },
      "source": [
        ""
      ],
      "execution_count": 0,
      "outputs": []
    }
  ]
}