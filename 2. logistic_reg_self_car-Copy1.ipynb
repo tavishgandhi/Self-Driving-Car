{
 "cells": [
  {
   "cell_type": "code",
   "execution_count": 81,
   "metadata": {},
   "outputs": [],
   "source": [
    "import numpy as np\n",
    "import matplotlib.pyplot as plt"
   ]
  },
  {
   "cell_type": "code",
   "execution_count": 87,
   "metadata": {},
   "outputs": [],
   "source": [
    "def draw(x1, x2):\n",
    "    ln = plt.plot(x1,x2, '-')\n",
    "\n",
    "def sigmoid(score):\n",
    "    return 1/( 1 + np.exp(-score))\n",
    "\n",
    "def calculate_error(line_parameters,points, y):\n",
    "    m = points.shape[0]\n",
    "    p = sigmoid(points*line_parameters)\n",
    "    cross_entropy = -(1/m)*(np.log(p).T * y + np.log(1-p).T * (1-y))\n",
    "    return cross_entropy\n",
    "\n",
    "def gradient_descent(line_parameters,points, y , alpha):\n",
    "    for i in range(500):       \n",
    "        m = points.shape[0]\n",
    "        p = sigmoid(points*line_parameters)\n",
    "        gradient = (points.T * (p - y))*(alpha / m)\n",
    "        line_parameters = line_parameters - gradient\n",
    "        w1 =  line_parameters.item(0)\n",
    "        w2 =  line_parameters.item(1)\n",
    "        b =  line_parameters.item(2)\n",
    "        x1 = np.array([points[:,0].min() , points[:,0].max()])\n",
    "        x2 = -b / w2 + x1 * (-w1 / w2)\n",
    "    draw(x1, x2)\n",
    "        "
   ]
  },
  {
   "cell_type": "code",
   "execution_count": 88,
   "metadata": {},
   "outputs": [],
   "source": [
    "n_pts = 100\n",
    "np.random.seed(0)\n",
    "bias = np.ones(n_pts)\n",
    "random_x1_values = np.random.normal(10,2,n_pts)\n",
    "random_x2_values = np.random.normal(12,2,n_pts)\n",
    "top_region = np.array([random_x1_values, random_x2_values, bias]).T\n",
    "bottom_region = np.array([np.random.normal(5,2,n_pts),np.random.normal(6,2,n_pts), bias]).T\n",
    "all_points = np.vstack((top_region,bottom_region))\n",
    "# w1 = -0.2\n",
    "# w2 = -0.35\n",
    "# b = 3.5\n",
    "# line_parameters = np.matrix([w1, w2, b]).T\n",
    "line_parameters = np.matrix([np.zeros(3)]).T\n",
    "# x1 = np.array([bottom_region[:,0].min() , top_region[:,0].max()])\n",
    "# x2 = -b / w2 + x1 * (-w1 / w2)\n",
    "\n",
    "# linear_combo = all_points*line_parameters\n",
    "# probablities = sigmoid(linear_combo)\n",
    "y = np.array([np.zeros(n_pts), np.ones(n_pts)]).reshape(n_pts*2,1)\n"
   ]
  },
  {
   "cell_type": "code",
   "execution_count": 89,
   "metadata": {},
   "outputs": [
    {
     "name": "stdout",
     "output_type": "stream",
     "text": [
      "(200, 3)\n",
      "(3, 1)\n"
     ]
    }
   ],
   "source": [
    "print(all_points.shape)\n",
    "print(line_parameters.shape)"
   ]
  },
  {
   "cell_type": "code",
   "execution_count": 90,
   "metadata": {},
   "outputs": [
    {
     "data": {
      "image/png": "[encoded data removed]",
      "text/plain": [
       "<Figure size 360x360 with 1 Axes>"
      ]
     },
     "metadata": {
      "needs_background": "light"
     },
     "output_type": "display_data"
    }
   ],
   "source": [
    "_,ax = plt.subplots(figsize = (5,5))\n",
    "ax.scatter(top_region[:,0], top_region[:,1], color='r')\n",
    "ax.scatter(bottom_region[:,0], bottom_region[:,1], color='b')\n",
    "gradient_descent(line_parameters, all_points, y , 0.06)\n",
    "# draw(x1, x2)\n",
    "\n",
    "\n"
   ]
  },
  {
   "cell_type": "code",
   "execution_count": 86,
   "metadata": {},
   "outputs": [
    {
     "name": "stdout",
     "output_type": "stream",
     "text": [
      "[[0.69314718]]\n"
     ]
    }
   ],
   "source": []
  },
  {
   "cell_type": "code",
   "execution_count": null,
   "metadata": {},
   "outputs": [],
   "source": []
  }
 ],
 "metadata": {
  "kernelspec": {
   "display_name": "Python 3.6 (tensorflow)",
   "language": "python",
   "name": "tensorflow"
  },
  "language_info": {
   "codemirror_mode": {
    "name": "ipython",
    "version": 3
   },
   "file_extension": ".py",
   "mimetype": "text/x-python",
   "name": "python",
   "nbconvert_exporter": "python",
   "pygments_lexer": "ipython3",
   "version": "3.6.8"
  }
 },
 "nbformat": 4,
 "nbformat_minor": 2
}
